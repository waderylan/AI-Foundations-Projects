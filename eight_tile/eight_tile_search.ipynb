{
 "cells": [
  {
   "metadata": {
    "ExecuteTime": {
     "end_time": "2025-08-28T05:15:34.850269Z",
     "start_time": "2025-08-28T05:15:34.844815Z"
    }
   },
   "cell_type": "code",
   "source": [
    "from collections import deque\n",
    "from typing import Dict, List, Set, Tuple\n",
    "\n",
    "import numpy as np"
   ],
   "id": "d4261c64230b2653",
   "outputs": [],
   "execution_count": 111
  },
  {
   "cell_type": "code",
   "id": "initial_id",
   "metadata": {
    "collapsed": true,
    "ExecuteTime": {
     "end_time": "2025-08-27T22:14:38.908882Z",
     "start_time": "2025-08-27T22:14:38.896683Z"
    }
   },
   "source": [
    "\n",
    "def make_board(state):\n",
    "    \"\"\"\n",
    "    Convert a 9-element list into a 3x3 numpy array.\n",
    "    \"\"\"\n",
    "    return np.array(state).reshape(3, 3)\n",
    "\n",
    "def print_board(board):\n",
    "    \"\"\"\n",
    "    Print a 3x3 numpy array board for the 8-puzzle.\n",
    "    0 is treated as blank.\n",
    "    \"\"\"\n",
    "    for row in board:\n",
    "        line = \"\"\n",
    "        for val in row:\n",
    "            if val == 0:\n",
    "                line += \"|    \"\n",
    "            else:\n",
    "                line += f\"| {val:2d} \"\n",
    "        line += \"|\"\n",
    "        print(line)\n",
    "        print(\"-----+-----+-----\")\n",
    "\n",
    "def board_key(board: np.ndarray):\n",
    "    \"\"\"Return a hashable key for a 3x3 numpy board.\"\"\"\n",
    "    return board.tobytes()\n"
   ],
   "outputs": [],
   "execution_count": 42
  },
  {
   "metadata": {
    "ExecuteTime": {
     "end_time": "2025-08-28T05:25:32.730430Z",
     "start_time": "2025-08-28T05:25:32.722027Z"
    }
   },
   "cell_type": "code",
   "source": [
    "goal_state = make_board([0,1,2,3,4,5,6,7,8])\n",
    "\n",
    "print_board(goal_state)\n",
    "\n",
    "print(board_key(goal_state))"
   ],
   "id": "e57dfd43994956f4",
   "outputs": [
    {
     "name": "stdout",
     "output_type": "stream",
     "text": [
      "|    |  1 |  2 |\n",
      "-----+-----+-----\n",
      "|  3 |  4 |  5 |\n",
      "-----+-----+-----\n",
      "|  6 |  7 |  8 |\n",
      "-----+-----+-----\n",
      "b'\\x00\\x00\\x00\\x00\\x00\\x00\\x00\\x00\\x01\\x00\\x00\\x00\\x00\\x00\\x00\\x00\\x02\\x00\\x00\\x00\\x00\\x00\\x00\\x00\\x03\\x00\\x00\\x00\\x00\\x00\\x00\\x00\\x04\\x00\\x00\\x00\\x00\\x00\\x00\\x00\\x05\\x00\\x00\\x00\\x00\\x00\\x00\\x00\\x06\\x00\\x00\\x00\\x00\\x00\\x00\\x00\\x07\\x00\\x00\\x00\\x00\\x00\\x00\\x00\\x08\\x00\\x00\\x00\\x00\\x00\\x00\\x00'\n"
     ]
    }
   ],
   "execution_count": 128
  },
  {
   "metadata": {
    "ExecuteTime": {
     "end_time": "2025-08-28T05:29:41.627985Z",
     "start_time": "2025-08-28T05:29:41.615254Z"
    }
   },
   "cell_type": "code",
   "source": [
    "def find_valid_moves(board: np.ndarray):\n",
    "    \"\"\"\n",
    "    Finds all valid moves from the 8-tile board and returns those boards as 3x3 numpy arrays.\n",
    "    Move notation is the direction that the blank space moves.\n",
    "    \"\"\"\n",
    "    r, c = np.where(board == 0)\n",
    "    out = []\n",
    "    if c < 2:\n",
    "        b = board.copy()\n",
    "        b[r, c], b[r, c+1] = b[r, c+1], b[r, c]\n",
    "        out.append((b, 'Right'))\n",
    "    if c > 0:\n",
    "        b = board.copy()\n",
    "        b[r, c], b[r, c-1] = b[r, c-1], b[r, c]\n",
    "        out.append((b, 'Left'))\n",
    "    if r < 2:\n",
    "        b = board.copy()\n",
    "        b[r, c], b[r+1, c] = b[r+1, c], b[r, c]\n",
    "        out.append((b, 'Down'))\n",
    "    if r > 0:\n",
    "        b = board.copy()\n",
    "        b[r, c], b[r-1, c] = b[r-1, c], b[r, c]\n",
    "        out.append((b, 'Up'))\n",
    "    return out\n"
   ],
   "id": "9196f645e39ebdb0",
   "outputs": [],
   "execution_count": 131
  },
  {
   "metadata": {
    "ExecuteTime": {
     "end_time": "2025-08-28T05:21:08.027694Z",
     "start_time": "2025-08-28T05:21:08.020048Z"
    }
   },
   "cell_type": "code",
   "source": [
    "class SearchTree:\n",
    "    def __init__(self, board):\n",
    "        self.root = board\n",
    "        self.children = []\n",
    "        self.directions = []\n",
    "\n",
    "\n",
    "    def display(self, depth: int, indent: int = 0):\n",
    "        \"\"\"\n",
    "        Used to display a state tree up to a certain depth.\n",
    "        Best with small examples when debugging.\n",
    "        \"\"\"\n",
    "        pad = \"  \" * indent\n",
    "        print(f\"{pad}Node:\")\n",
    "        print_board(self.root)\n",
    "\n",
    "        if depth <= 0:\n",
    "            return\n",
    "\n",
    "        for i, child in enumerate(self.children, 1):\n",
    "            print(f\"{pad}Child {i}:\")\n",
    "            child.display(depth=depth-1, indent=indent+1)\n",
    "\n",
    "    def find_solution_pruning(self, goal_state, max_depth: int = 1):\n",
    "        \"\"\"\n",
    "        Initial implementation that keeps track of what states have been seen.\n",
    "        This does not get the best solution because some branches are pruned too early.\n",
    "        \"\"\"\n",
    "        seen: Set[bytes] = {board_key(self.root)}\n",
    "        stack: List[Tuple[SearchTree, int]] = [(self, 0)]\n",
    "        goal_state_key = board_key(goal_state)\n",
    "\n",
    "        if board_key(self.root) == goal_state_key:\n",
    "            return self.root, 0, []\n",
    "\n",
    "        while stack:\n",
    "            node, depth = stack.pop()\n",
    "            if depth > max_depth:\n",
    "                continue\n",
    "\n",
    "            for move_state, direction in find_valid_moves(node.root):\n",
    "                key = board_key(move_state)\n",
    "                path = node.directions + [direction]\n",
    "\n",
    "                if key == goal_state_key:\n",
    "                    return move_state, depth+1, path\n",
    "\n",
    "                if key in seen:\n",
    "                    continue\n",
    "\n",
    "                seen.add(key)\n",
    "                new_board = SearchTree(move_state)\n",
    "                new_board.directions = path\n",
    "                stack.append((new_board, depth+1))\n",
    "                node.children.append(new_board)\n",
    "        return None, None, None\n",
    "\n",
    "    def find_solution_bfs(self, goal_state):\n",
    "        \"\"\"\n",
    "        Second implementation that uses breadth-first search.\n",
    "        Finds the optimal solution by iterating over states in order of depth\n",
    "        \"\"\"\n",
    "        goal_state_key = board_key(goal_state)\n",
    "        start_state_key = board_key(self.root)\n",
    "        if start_state_key == goal_state_key:\n",
    "            return self.root, 0, []\n",
    "\n",
    "        q = deque([(self, 0)])\n",
    "        best_depth: Dict[bytes, int] = {start_state_key: 0}\n",
    "\n",
    "        while q:\n",
    "            node, depth = q.popleft()\n",
    "\n",
    "            for move_state, direction in find_valid_moves(node.root):\n",
    "                curr_key = board_key(move_state)\n",
    "                curr_depth = depth + 1\n",
    "\n",
    "                # only proceed if new or shallower\n",
    "                if curr_key in best_depth and curr_depth >= best_depth[curr_key]:\n",
    "                    continue\n",
    "                best_depth[curr_key] = curr_depth\n",
    "\n",
    "                child = SearchTree(move_state)\n",
    "                child.directions = node.directions + [direction]\n",
    "                node.children.append(child)\n",
    "\n",
    "                if curr_key == goal_state_key:\n",
    "                    return move_state, curr_depth, child.directions\n",
    "\n",
    "                q.append((child, curr_depth))\n",
    "\n",
    "        return None, None, None\n",
    "\n"
   ],
   "id": "69a9f186fb659e91",
   "outputs": [],
   "execution_count": 124
  },
  {
   "metadata": {
    "ExecuteTime": {
     "end_time": "2025-08-28T05:30:02.097918Z",
     "start_time": "2025-08-28T05:29:57.574324Z"
    }
   },
   "cell_type": "code",
   "source": [
    "example_state = make_board([8,7,6,5,4,3,2,1,0])\n",
    "goal_state = make_board([0,1,2,3,4,5,6,7,8])\n",
    "\n",
    "solution = SearchTree(example_state)\n",
    "answer, depth, directions = solution.find_solution_bfs(goal_state)\n",
    "\n",
    "print(\"---------- START ----------\")\n",
    "print_board(example_state)\n",
    "print(f\"---------- SOLUTION ({depth} moves) ----------\")\n",
    "print_board(answer)\n",
    "print(f\"---------- DIRECTIONS {directions} ----------\")\n"
   ],
   "id": "71d0dac8e859631d",
   "outputs": [
    {
     "name": "stdout",
     "output_type": "stream",
     "text": [
      "---------- START ----------\n",
      "|  8 |  7 |  6 |\n",
      "-----+-----+-----\n",
      "|  5 |  4 |  3 |\n",
      "-----+-----+-----\n",
      "|  2 |  1 |    |\n",
      "-----+-----+-----\n",
      "---------- SOLUTION (28 moves) ----------\n",
      "|    |  1 |  2 |\n",
      "-----+-----+-----\n",
      "|  3 |  4 |  5 |\n",
      "-----+-----+-----\n",
      "|  6 |  7 |  8 |\n",
      "-----+-----+-----\n",
      "---------- DIRECTIONS ['Left', 'Left', 'Up', 'Up', 'Right', 'Right', 'Down', 'Down', 'Left', 'Left', 'Up', 'Up', 'Right', 'Right', 'Down', 'Down', 'Left', 'Left', 'Up', 'Up', 'Right', 'Right', 'Down', 'Down', 'Left', 'Left', 'Up', 'Up'] ----------\n"
     ]
    }
   ],
   "execution_count": 133
  }
 ],
 "metadata": {
  "kernelspec": {
   "display_name": "Python 3",
   "language": "python",
   "name": "python3"
  },
  "language_info": {
   "codemirror_mode": {
    "name": "ipython",
    "version": 2
   },
   "file_extension": ".py",
   "mimetype": "text/x-python",
   "name": "python",
   "nbconvert_exporter": "python",
   "pygments_lexer": "ipython2",
   "version": "2.7.6"
  }
 },
 "nbformat": 4,
 "nbformat_minor": 5
}
